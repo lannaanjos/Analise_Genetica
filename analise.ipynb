{
 "cells": [
  {
   "cell_type": "markdown",
   "id": "1159cd46",
   "metadata": {},
   "source": [
    "# Análise de Proteínas"
   ]
  },
  {
   "cell_type": "markdown",
   "id": "3e3bcfce",
   "metadata": {},
   "source": [
    "## Processamento do arquivo original"
   ]
  },
  {
   "cell_type": "markdown",
   "id": "610b7b28",
   "metadata": {},
   "source": [
    "### Importação das libs"
   ]
  },
  {
   "cell_type": "code",
   "execution_count": 1,
   "id": "76546478",
   "metadata": {},
   "outputs": [],
   "source": [
    "from Bio import SeqIO\n",
    "import pandas as pd"
   ]
  },
  {
   "cell_type": "markdown",
   "id": "f36f817d",
   "metadata": {},
   "source": [
    "### Processamento do Arquivo"
   ]
  },
  {
   "cell_type": "code",
   "execution_count": 2,
   "id": "9d62c3c1",
   "metadata": {},
   "outputs": [],
   "source": [
    "arquivo = \"proteinas.fa\"\n",
    "\n",
    "headers = []\n",
    "seqs = []\n",
    "classes = []\n",
    "\n",
    "for registro in SeqIO.parse(arquivo, \"fasta\"):\n",
    "    headers.append(registro.id)\n",
    "    seqs.append(str(registro.seq))    \n",
    "    classes.append(registro.description)"
   ]
  },
  {
   "cell_type": "markdown",
   "id": "610c9bb1",
   "metadata": {},
   "source": [
    "### DataFrame"
   ]
  },
  {
   "cell_type": "code",
   "execution_count": 7,
   "id": "156d877b",
   "metadata": {},
   "outputs": [
    {
     "name": "stdout",
     "output_type": "stream",
     "text": [
      "Total de proteínas: 15177\n",
      "Comprimento medio: 184.82 aminoácidos.\n",
      "Menor comprimento: 20 aminoácidos.\n",
      "Maior comprimento: 1664 aminoácidos.\n",
      "\n",
      "Primeiras 5 entradas:\n"
     ]
    },
    {
     "data": {
      "text/html": [
       "<div>\n",
       "<style scoped>\n",
       "    .dataframe tbody tr th:only-of-type {\n",
       "        vertical-align: middle;\n",
       "    }\n",
       "\n",
       "    .dataframe tbody tr th {\n",
       "        vertical-align: top;\n",
       "    }\n",
       "\n",
       "    .dataframe thead th {\n",
       "        text-align: right;\n",
       "    }\n",
       "</style>\n",
       "<table border=\"1\" class=\"dataframe\">\n",
       "  <thead>\n",
       "    <tr style=\"text-align: right;\">\n",
       "      <th></th>\n",
       "      <th>header</th>\n",
       "      <th>sequencia</th>\n",
       "      <th>classe_scop</th>\n",
       "    </tr>\n",
       "  </thead>\n",
       "  <tbody>\n",
       "    <tr>\n",
       "      <th>0</th>\n",
       "      <td>d1dlwa_</td>\n",
       "      <td>slfeqlggqaavqavtaqfyaniqadatvatffngidmpnqtnkta...</td>\n",
       "      <td>d1dlwa_ a.1.1.1 (A:) Protozoan/bacterial hemog...</td>\n",
       "    </tr>\n",
       "    <tr>\n",
       "      <th>1</th>\n",
       "      <td>d2gkma_</td>\n",
       "      <td>gllsrlrkrepisiydkiggheaievvvedffvrvladdqlsaffs...</td>\n",
       "      <td>d2gkma_ a.1.1.1 (A:) Protozoan/bacterial hemog...</td>\n",
       "    </tr>\n",
       "    <tr>\n",
       "      <th>2</th>\n",
       "      <td>d1ngka_</td>\n",
       "      <td>ksfydavggaktfdaivsrfyaqvaedevlrrvypeddlagaeerl...</td>\n",
       "      <td>d1ngka_ a.1.1.1 (A:) Protozoan/bacterial hemog...</td>\n",
       "    </tr>\n",
       "    <tr>\n",
       "      <th>3</th>\n",
       "      <td>d2bkma_</td>\n",
       "      <td>eqwqtlyeaiggeetvaklveafyrrvaahpdlrpifpddltetah...</td>\n",
       "      <td>d2bkma_ a.1.1.1 (A:) automated matches {Geobac...</td>\n",
       "    </tr>\n",
       "    <tr>\n",
       "      <th>4</th>\n",
       "      <td>d4i0va_</td>\n",
       "      <td>aslyeklggaaavdlavekfygkvladervnrffvntdmakqkqhq...</td>\n",
       "      <td>d4i0va_ a.1.1.1 (A:) automated matches {Synech...</td>\n",
       "    </tr>\n",
       "  </tbody>\n",
       "</table>\n",
       "</div>"
      ],
      "text/plain": [
       "    header                                          sequencia  \\\n",
       "0  d1dlwa_  slfeqlggqaavqavtaqfyaniqadatvatffngidmpnqtnkta...   \n",
       "1  d2gkma_  gllsrlrkrepisiydkiggheaievvvedffvrvladdqlsaffs...   \n",
       "2  d1ngka_  ksfydavggaktfdaivsrfyaqvaedevlrrvypeddlagaeerl...   \n",
       "3  d2bkma_  eqwqtlyeaiggeetvaklveafyrrvaahpdlrpifpddltetah...   \n",
       "4  d4i0va_  aslyeklggaaavdlavekfygkvladervnrffvntdmakqkqhq...   \n",
       "\n",
       "                                         classe_scop  \n",
       "0  d1dlwa_ a.1.1.1 (A:) Protozoan/bacterial hemog...  \n",
       "1  d2gkma_ a.1.1.1 (A:) Protozoan/bacterial hemog...  \n",
       "2  d1ngka_ a.1.1.1 (A:) Protozoan/bacterial hemog...  \n",
       "3  d2bkma_ a.1.1.1 (A:) automated matches {Geobac...  \n",
       "4  d4i0va_ a.1.1.1 (A:) automated matches {Synech...  "
      ]
     },
     "execution_count": 7,
     "metadata": {},
     "output_type": "execute_result"
    }
   ],
   "source": [
    "data_proteinas = pd.DataFrame({\n",
    "    'header': headers,\n",
    "    'sequencia': seqs,\n",
    "    'classe_scop': classes\n",
    "})\n",
    "\n",
    "print(f'Total de proteínas: {len(data_proteinas)}')\n",
    "print(f'Comprimento medio: {data_proteinas['sequencia'].str.len().mean():.2f} aminoácidos.')\n",
    "print(f'Menor comprimento: {data_proteinas['sequencia'].str.len().min()} aminoácidos.')\n",
    "print(f'Maior comprimento: {data_proteinas['sequencia'].str.len().max()} aminoácidos.')\n",
    "\n",
    "print()\n",
    "print('Primeiras 5 entradas:')\n",
    "data_proteinas.head()"
   ]
  }
 ],
 "metadata": {
  "kernelspec": {
   "display_name": "venv_analise",
   "language": "python",
   "name": "python3"
  },
  "language_info": {
   "codemirror_mode": {
    "name": "ipython",
    "version": 3
   },
   "file_extension": ".py",
   "mimetype": "text/x-python",
   "name": "python",
   "nbconvert_exporter": "python",
   "pygments_lexer": "ipython3",
   "version": "3.13.7"
  }
 },
 "nbformat": 4,
 "nbformat_minor": 5
}

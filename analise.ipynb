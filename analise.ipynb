{
 "cells": [
  {
   "cell_type": "markdown",
   "id": "1159cd46",
   "metadata": {},
   "source": [
    "# Análise de Proteínas"
   ]
  },
  {
   "cell_type": "markdown",
   "id": "3e3bcfce",
   "metadata": {},
   "source": [
    "## 1. Processamento do arquivo original"
   ]
  },
  {
   "cell_type": "markdown",
   "id": "610b7b28",
   "metadata": {},
   "source": [
    "### Importação das libs"
   ]
  },
  {
   "cell_type": "code",
   "execution_count": 41,
   "id": "76546478",
   "metadata": {},
   "outputs": [],
   "source": [
    "from Bio import SeqIO\n",
    "import pandas as pd\n",
    "import numpy as np\n",
    "import re\n",
    "import itertools\n",
    "from tqdm import tqdm\n",
    "from sklearn.decomposition import PCA\n",
    "from sklearn.cluster import KMeans, DBSCAN, AgglomerativeClustering, MeanShift, AffinityPropagation\n",
    "from sklearn.metrics import silhouette_score, calinski_harabasz_score, f1_score, adjusted_mutual_info_score, adjusted_rand_score\n",
    "from sklearn.preprocessing import LabelEncoder\n",
    "import warnings"
   ]
  },
  {
   "cell_type": "markdown",
   "id": "f36f817d",
   "metadata": {},
   "source": [
    "### Processamento do Arquivo"
   ]
  },
  {
   "cell_type": "code",
   "execution_count": 2,
   "id": "9d62c3c1",
   "metadata": {},
   "outputs": [],
   "source": [
    "arquivo = \"proteinas.fa\"\n",
    "\n",
    "headers = []\n",
    "seqs = []\n",
    "classes = []\n",
    "\n",
    "for registro in SeqIO.parse(arquivo, \"fasta\"):\n",
    "    headers.append(registro.id)\n",
    "    seqs.append(str(registro.seq))    \n",
    "    classes.append(registro.description)"
   ]
  },
  {
   "cell_type": "markdown",
   "id": "610c9bb1",
   "metadata": {},
   "source": [
    "### DataFrame"
   ]
  },
  {
   "cell_type": "code",
   "execution_count": 3,
   "id": "156d877b",
   "metadata": {},
   "outputs": [
    {
     "name": "stdout",
     "output_type": "stream",
     "text": [
      "Total de proteínas: 15177\n",
      "Comprimento medio: 184.82 aminoácidos.\n",
      "Menor comprimento: 20 aminoácidos.\n",
      "Maior comprimento: 1664 aminoácidos.\n",
      "\n",
      "Primeiras 5 entradas:\n"
     ]
    },
    {
     "data": {
      "text/html": [
       "<div>\n",
       "<style scoped>\n",
       "    .dataframe tbody tr th:only-of-type {\n",
       "        vertical-align: middle;\n",
       "    }\n",
       "\n",
       "    .dataframe tbody tr th {\n",
       "        vertical-align: top;\n",
       "    }\n",
       "\n",
       "    .dataframe thead th {\n",
       "        text-align: right;\n",
       "    }\n",
       "</style>\n",
       "<table border=\"1\" class=\"dataframe\">\n",
       "  <thead>\n",
       "    <tr style=\"text-align: right;\">\n",
       "      <th></th>\n",
       "      <th>header</th>\n",
       "      <th>sequencia</th>\n",
       "      <th>classe_scop</th>\n",
       "    </tr>\n",
       "  </thead>\n",
       "  <tbody>\n",
       "    <tr>\n",
       "      <th>0</th>\n",
       "      <td>d1dlwa_</td>\n",
       "      <td>slfeqlggqaavqavtaqfyaniqadatvatffngidmpnqtnkta...</td>\n",
       "      <td>d1dlwa_ a.1.1.1 (A:) Protozoan/bacterial hemog...</td>\n",
       "    </tr>\n",
       "    <tr>\n",
       "      <th>1</th>\n",
       "      <td>d2gkma_</td>\n",
       "      <td>gllsrlrkrepisiydkiggheaievvvedffvrvladdqlsaffs...</td>\n",
       "      <td>d2gkma_ a.1.1.1 (A:) Protozoan/bacterial hemog...</td>\n",
       "    </tr>\n",
       "    <tr>\n",
       "      <th>2</th>\n",
       "      <td>d1ngka_</td>\n",
       "      <td>ksfydavggaktfdaivsrfyaqvaedevlrrvypeddlagaeerl...</td>\n",
       "      <td>d1ngka_ a.1.1.1 (A:) Protozoan/bacterial hemog...</td>\n",
       "    </tr>\n",
       "    <tr>\n",
       "      <th>3</th>\n",
       "      <td>d2bkma_</td>\n",
       "      <td>eqwqtlyeaiggeetvaklveafyrrvaahpdlrpifpddltetah...</td>\n",
       "      <td>d2bkma_ a.1.1.1 (A:) automated matches {Geobac...</td>\n",
       "    </tr>\n",
       "    <tr>\n",
       "      <th>4</th>\n",
       "      <td>d4i0va_</td>\n",
       "      <td>aslyeklggaaavdlavekfygkvladervnrffvntdmakqkqhq...</td>\n",
       "      <td>d4i0va_ a.1.1.1 (A:) automated matches {Synech...</td>\n",
       "    </tr>\n",
       "  </tbody>\n",
       "</table>\n",
       "</div>"
      ],
      "text/plain": [
       "    header                                          sequencia  \\\n",
       "0  d1dlwa_  slfeqlggqaavqavtaqfyaniqadatvatffngidmpnqtnkta...   \n",
       "1  d2gkma_  gllsrlrkrepisiydkiggheaievvvedffvrvladdqlsaffs...   \n",
       "2  d1ngka_  ksfydavggaktfdaivsrfyaqvaedevlrrvypeddlagaeerl...   \n",
       "3  d2bkma_  eqwqtlyeaiggeetvaklveafyrrvaahpdlrpifpddltetah...   \n",
       "4  d4i0va_  aslyeklggaaavdlavekfygkvladervnrffvntdmakqkqhq...   \n",
       "\n",
       "                                         classe_scop  \n",
       "0  d1dlwa_ a.1.1.1 (A:) Protozoan/bacterial hemog...  \n",
       "1  d2gkma_ a.1.1.1 (A:) Protozoan/bacterial hemog...  \n",
       "2  d1ngka_ a.1.1.1 (A:) Protozoan/bacterial hemog...  \n",
       "3  d2bkma_ a.1.1.1 (A:) automated matches {Geobac...  \n",
       "4  d4i0va_ a.1.1.1 (A:) automated matches {Synech...  "
      ]
     },
     "execution_count": 3,
     "metadata": {},
     "output_type": "execute_result"
    }
   ],
   "source": [
    "data_proteinas = pd.DataFrame({\n",
    "    'header': headers,\n",
    "    'sequencia': seqs,\n",
    "    'classe_scop': classes\n",
    "})\n",
    "\n",
    "print(f'Total de proteínas: {len(data_proteinas)}')\n",
    "print(f'Comprimento medio: {data_proteinas['sequencia'].str.len().mean():.2f} aminoácidos.')\n",
    "print(f'Menor comprimento: {data_proteinas['sequencia'].str.len().min()} aminoácidos.')\n",
    "print(f'Maior comprimento: {data_proteinas['sequencia'].str.len().max()} aminoácidos.')\n",
    "\n",
    "print()\n",
    "print('Primeiras 5 entradas:')\n",
    "data_proteinas.head()"
   ]
  },
  {
   "cell_type": "markdown",
   "id": "3e70737e",
   "metadata": {},
   "source": [
    "## 2. Extração das classes SCOP"
   ]
  },
  {
   "cell_type": "code",
   "execution_count": 4,
   "id": "b2126b5b",
   "metadata": {},
   "outputs": [],
   "source": [
    "scop_padrao = r'([a-z]\\.[0-9]+\\.[0-9]+\\.[0-9]+)'"
   ]
  },
  {
   "cell_type": "markdown",
   "id": "56ee89a3",
   "metadata": {},
   "source": [
    "### Método para extração e aplicação"
   ]
  },
  {
   "cell_type": "code",
   "execution_count": 5,
   "id": "7d893204",
   "metadata": {},
   "outputs": [],
   "source": [
    "def extrair_classe_scop(descricao):\n",
    "    match = re.search(scop_padrao, descricao)\n",
    "    if match:\n",
    "        return match.group(1)\n",
    "    else:\n",
    "        return None\n",
    "    \n",
    "data_proteinas['classe_scop'] = data_proteinas['classe_scop'].apply(extrair_classe_scop)"
   ]
  },
  {
   "cell_type": "markdown",
   "id": "d88be6b2",
   "metadata": {},
   "source": [
    "### Visualização dos resultados:\n",
    "Resumo da Extração:"
   ]
  },
  {
   "cell_type": "code",
   "execution_count": 6,
   "id": "44155793",
   "metadata": {},
   "outputs": [
    {
     "data": {
      "text/html": [
       "<div>\n",
       "<style scoped>\n",
       "    .dataframe tbody tr th:only-of-type {\n",
       "        vertical-align: middle;\n",
       "    }\n",
       "\n",
       "    .dataframe tbody tr th {\n",
       "        vertical-align: top;\n",
       "    }\n",
       "\n",
       "    .dataframe thead th {\n",
       "        text-align: right;\n",
       "    }\n",
       "</style>\n",
       "<table border=\"1\" class=\"dataframe\">\n",
       "  <thead>\n",
       "    <tr style=\"text-align: right;\">\n",
       "      <th></th>\n",
       "      <th>Metrica</th>\n",
       "      <th>Valor</th>\n",
       "    </tr>\n",
       "  </thead>\n",
       "  <tbody>\n",
       "    <tr>\n",
       "      <th>0</th>\n",
       "      <td>Total de Sequências</td>\n",
       "      <td>15177</td>\n",
       "    </tr>\n",
       "    <tr>\n",
       "      <th>1</th>\n",
       "      <td>Com classe SCOP identificada</td>\n",
       "      <td>15177</td>\n",
       "    </tr>\n",
       "    <tr>\n",
       "      <th>2</th>\n",
       "      <td>Sem classe SCOP</td>\n",
       "      <td>0</td>\n",
       "    </tr>\n",
       "    <tr>\n",
       "      <th>3</th>\n",
       "      <td>Taxa de Sucesso</td>\n",
       "      <td>100.00%</td>\n",
       "    </tr>\n",
       "    <tr>\n",
       "      <th>4</th>\n",
       "      <td>Classes únicas identificadas</td>\n",
       "      <td>4703</td>\n",
       "    </tr>\n",
       "  </tbody>\n",
       "</table>\n",
       "</div>"
      ],
      "text/plain": [
       "                        Metrica    Valor\n",
       "0           Total de Sequências    15177\n",
       "1  Com classe SCOP identificada    15177\n",
       "2               Sem classe SCOP        0\n",
       "3               Taxa de Sucesso  100.00%\n",
       "4  Classes únicas identificadas     4703"
      ]
     },
     "execution_count": 6,
     "metadata": {},
     "output_type": "execute_result"
    }
   ],
   "source": [
    "resumo_extracao = pd.DataFrame({\n",
    "    'Metrica':[\n",
    "        'Total de Sequências',\n",
    "        'Com classe SCOP identificada',\n",
    "        'Sem classe SCOP',\n",
    "        'Taxa de Sucesso',\n",
    "        'Classes únicas identificadas'\n",
    "    ],\n",
    "    'Valor':[\n",
    "        len(data_proteinas),\n",
    "        data_proteinas['classe_scop'].notna().sum(),\n",
    "        data_proteinas['classe_scop'].isna().sum(),\n",
    "        f'{(data_proteinas['classe_scop'].notna().sum()/len(data_proteinas)*100):.2f}%',\n",
    "        data_proteinas['classe_scop'].nunique()\n",
    "    ]        \n",
    "})\n",
    "\n",
    "resumo_extracao.head()"
   ]
  },
  {
   "cell_type": "markdown",
   "id": "a193cb74",
   "metadata": {},
   "source": [
    "Distribuição das Classes:"
   ]
  },
  {
   "cell_type": "code",
   "execution_count": 7,
   "id": "2afcc346",
   "metadata": {},
   "outputs": [
    {
     "data": {
      "text/html": [
       "<div>\n",
       "<style scoped>\n",
       "    .dataframe tbody tr th:only-of-type {\n",
       "        vertical-align: middle;\n",
       "    }\n",
       "\n",
       "    .dataframe tbody tr th {\n",
       "        vertical-align: top;\n",
       "    }\n",
       "\n",
       "    .dataframe thead th {\n",
       "        text-align: right;\n",
       "    }\n",
       "</style>\n",
       "<table border=\"1\" class=\"dataframe\">\n",
       "  <thead>\n",
       "    <tr style=\"text-align: right;\">\n",
       "      <th></th>\n",
       "      <th>Classe SCOP</th>\n",
       "      <th>Quantidade</th>\n",
       "      <th>Percentual</th>\n",
       "    </tr>\n",
       "  </thead>\n",
       "  <tbody>\n",
       "    <tr>\n",
       "      <th>0</th>\n",
       "      <td>c.2.1.0</td>\n",
       "      <td>196</td>\n",
       "      <td>1.29</td>\n",
       "    </tr>\n",
       "    <tr>\n",
       "      <th>1</th>\n",
       "      <td>c.94.1.0</td>\n",
       "      <td>132</td>\n",
       "      <td>0.87</td>\n",
       "    </tr>\n",
       "    <tr>\n",
       "      <th>2</th>\n",
       "      <td>b.1.1.0</td>\n",
       "      <td>127</td>\n",
       "      <td>0.84</td>\n",
       "    </tr>\n",
       "    <tr>\n",
       "      <th>3</th>\n",
       "      <td>c.47.1.0</td>\n",
       "      <td>121</td>\n",
       "      <td>0.80</td>\n",
       "    </tr>\n",
       "    <tr>\n",
       "      <th>4</th>\n",
       "      <td>c.37.1.0</td>\n",
       "      <td>109</td>\n",
       "      <td>0.72</td>\n",
       "    </tr>\n",
       "  </tbody>\n",
       "</table>\n",
       "</div>"
      ],
      "text/plain": [
       "  Classe SCOP  Quantidade  Percentual\n",
       "0     c.2.1.0         196        1.29\n",
       "1    c.94.1.0         132        0.87\n",
       "2     b.1.1.0         127        0.84\n",
       "3    c.47.1.0         121        0.80\n",
       "4    c.37.1.0         109        0.72"
      ]
     },
     "execution_count": 7,
     "metadata": {},
     "output_type": "execute_result"
    }
   ],
   "source": [
    "distribuicao_classes = data_proteinas['classe_scop'].value_counts().head()\n",
    "df_distrubuicao = pd.DataFrame({\n",
    "    'Classe SCOP': distribuicao_classes.index,\n",
    "    'Quantidade': distribuicao_classes.values,\n",
    "    'Percentual': (distribuicao_classes.values / len(data_proteinas)*100).round(2)\n",
    "})\n",
    "\n",
    "df_distrubuicao"
   ]
  },
  {
   "cell_type": "markdown",
   "id": "9c62afcb",
   "metadata": {},
   "source": [
    "Amostra dos dados com classes extraídas:"
   ]
  },
  {
   "cell_type": "code",
   "execution_count": 8,
   "id": "7f87399b",
   "metadata": {},
   "outputs": [
    {
     "data": {
      "text/html": [
       "<div>\n",
       "<style scoped>\n",
       "    .dataframe tbody tr th:only-of-type {\n",
       "        vertical-align: middle;\n",
       "    }\n",
       "\n",
       "    .dataframe tbody tr th {\n",
       "        vertical-align: top;\n",
       "    }\n",
       "\n",
       "    .dataframe thead th {\n",
       "        text-align: right;\n",
       "    }\n",
       "</style>\n",
       "<table border=\"1\" class=\"dataframe\">\n",
       "  <thead>\n",
       "    <tr style=\"text-align: right;\">\n",
       "      <th></th>\n",
       "      <th>header</th>\n",
       "      <th>classe_scop</th>\n",
       "      <th>sequencia</th>\n",
       "      <th>comprimento</th>\n",
       "    </tr>\n",
       "  </thead>\n",
       "  <tbody>\n",
       "    <tr>\n",
       "      <th>0</th>\n",
       "      <td>d1dlwa_</td>\n",
       "      <td>a.1.1.1</td>\n",
       "      <td>slfeqlggqaavqavtaqfyaniqadatvatffngidmpnqtnkta...</td>\n",
       "      <td>116</td>\n",
       "    </tr>\n",
       "    <tr>\n",
       "      <th>1</th>\n",
       "      <td>d2gkma_</td>\n",
       "      <td>a.1.1.1</td>\n",
       "      <td>gllsrlrkrepisiydkiggheaievvvedffvrvladdqlsaffs...</td>\n",
       "      <td>127</td>\n",
       "    </tr>\n",
       "    <tr>\n",
       "      <th>2</th>\n",
       "      <td>d1ngka_</td>\n",
       "      <td>a.1.1.1</td>\n",
       "      <td>ksfydavggaktfdaivsrfyaqvaedevlrrvypeddlagaeerl...</td>\n",
       "      <td>126</td>\n",
       "    </tr>\n",
       "    <tr>\n",
       "      <th>3</th>\n",
       "      <td>d2bkma_</td>\n",
       "      <td>a.1.1.1</td>\n",
       "      <td>eqwqtlyeaiggeetvaklveafyrrvaahpdlrpifpddltetah...</td>\n",
       "      <td>128</td>\n",
       "    </tr>\n",
       "    <tr>\n",
       "      <th>4</th>\n",
       "      <td>d4i0va_</td>\n",
       "      <td>a.1.1.1</td>\n",
       "      <td>aslyeklggaaavdlavekfygkvladervnrffvntdmakqkqhq...</td>\n",
       "      <td>123</td>\n",
       "    </tr>\n",
       "    <tr>\n",
       "      <th>5</th>\n",
       "      <td>d1asha_</td>\n",
       "      <td>a.1.1.2</td>\n",
       "      <td>anktrelcmkslehakvdtsnearqdgidlykhmfenypplrkyfk...</td>\n",
       "      <td>147</td>\n",
       "    </tr>\n",
       "    <tr>\n",
       "      <th>6</th>\n",
       "      <td>d2dc3a_</td>\n",
       "      <td>a.1.1.2</td>\n",
       "      <td>eelseaerkavqamwarlyancedvgvailvrffvnfpsakqyfsq...</td>\n",
       "      <td>172</td>\n",
       "    </tr>\n",
       "    <tr>\n",
       "      <th>7</th>\n",
       "      <td>d4hswa_</td>\n",
       "      <td>a.1.1.2</td>\n",
       "      <td>gfkqdiatirgdlrtyaqdiflaflnkypderryfknyvgksdqel...</td>\n",
       "      <td>137</td>\n",
       "    </tr>\n",
       "    <tr>\n",
       "      <th>8</th>\n",
       "      <td>d1ecaa_</td>\n",
       "      <td>a.1.1.2</td>\n",
       "      <td>lsadqistvqasfdkvkgdpvgilyavfkadpsimakftqfagkdl...</td>\n",
       "      <td>136</td>\n",
       "    </tr>\n",
       "    <tr>\n",
       "      <th>9</th>\n",
       "      <td>d1x9fd_</td>\n",
       "      <td>a.1.1.2</td>\n",
       "      <td>eclvteslkvklqwasafghahervafglelwrdiiddhpeikapf...</td>\n",
       "      <td>140</td>\n",
       "    </tr>\n",
       "    <tr>\n",
       "      <th>10</th>\n",
       "      <td>d1x9fc_</td>\n",
       "      <td>a.1.1.2</td>\n",
       "      <td>hehccseedhrivqkqwdilwrdtesskikigfgrllltklakdip...</td>\n",
       "      <td>149</td>\n",
       "    </tr>\n",
       "  </tbody>\n",
       "</table>\n",
       "</div>"
      ],
      "text/plain": [
       "     header classe_scop                                          sequencia  \\\n",
       "0   d1dlwa_     a.1.1.1  slfeqlggqaavqavtaqfyaniqadatvatffngidmpnqtnkta...   \n",
       "1   d2gkma_     a.1.1.1  gllsrlrkrepisiydkiggheaievvvedffvrvladdqlsaffs...   \n",
       "2   d1ngka_     a.1.1.1  ksfydavggaktfdaivsrfyaqvaedevlrrvypeddlagaeerl...   \n",
       "3   d2bkma_     a.1.1.1  eqwqtlyeaiggeetvaklveafyrrvaahpdlrpifpddltetah...   \n",
       "4   d4i0va_     a.1.1.1  aslyeklggaaavdlavekfygkvladervnrffvntdmakqkqhq...   \n",
       "5   d1asha_     a.1.1.2  anktrelcmkslehakvdtsnearqdgidlykhmfenypplrkyfk...   \n",
       "6   d2dc3a_     a.1.1.2  eelseaerkavqamwarlyancedvgvailvrffvnfpsakqyfsq...   \n",
       "7   d4hswa_     a.1.1.2  gfkqdiatirgdlrtyaqdiflaflnkypderryfknyvgksdqel...   \n",
       "8   d1ecaa_     a.1.1.2  lsadqistvqasfdkvkgdpvgilyavfkadpsimakftqfagkdl...   \n",
       "9   d1x9fd_     a.1.1.2  eclvteslkvklqwasafghahervafglelwrdiiddhpeikapf...   \n",
       "10  d1x9fc_     a.1.1.2  hehccseedhrivqkqwdilwrdtesskikigfgrllltklakdip...   \n",
       "\n",
       "    comprimento  \n",
       "0           116  \n",
       "1           127  \n",
       "2           126  \n",
       "3           128  \n",
       "4           123  \n",
       "5           147  \n",
       "6           172  \n",
       "7           137  \n",
       "8           136  \n",
       "9           140  \n",
       "10          149  "
      ]
     },
     "execution_count": 8,
     "metadata": {},
     "output_type": "execute_result"
    }
   ],
   "source": [
    "amostra = data_proteinas[['header', 'classe_scop', 'sequencia']].head(11).copy()\n",
    "amostra['comprimento'] = amostra['sequencia'].str.len()\n",
    "\n",
    "amostra"
   ]
  },
  {
   "cell_type": "markdown",
   "id": "5cb9e66c",
   "metadata": {},
   "source": [
    "Estatísticas Extras:"
   ]
  },
  {
   "cell_type": "code",
   "execution_count": 9,
   "id": "faa8d791",
   "metadata": {},
   "outputs": [
    {
     "data": {
      "text/html": [
       "<div>\n",
       "<style scoped>\n",
       "    .dataframe tbody tr th:only-of-type {\n",
       "        vertical-align: middle;\n",
       "    }\n",
       "\n",
       "    .dataframe tbody tr th {\n",
       "        vertical-align: top;\n",
       "    }\n",
       "\n",
       "    .dataframe thead th {\n",
       "        text-align: right;\n",
       "    }\n",
       "</style>\n",
       "<table border=\"1\" class=\"dataframe\">\n",
       "  <thead>\n",
       "    <tr style=\"text-align: right;\">\n",
       "      <th></th>\n",
       "      <th>Estatística</th>\n",
       "      <th>Valor</th>\n",
       "    </tr>\n",
       "  </thead>\n",
       "  <tbody>\n",
       "    <tr>\n",
       "      <th>0</th>\n",
       "      <td>Média de sequências por classe</td>\n",
       "      <td>3.2</td>\n",
       "    </tr>\n",
       "    <tr>\n",
       "      <th>1</th>\n",
       "      <td>Classe com mais sequências</td>\n",
       "      <td>c.2.1.0 (196 sequências)</td>\n",
       "    </tr>\n",
       "    <tr>\n",
       "      <th>2</th>\n",
       "      <td>Classe com menos sequências</td>\n",
       "      <td>1</td>\n",
       "    </tr>\n",
       "    <tr>\n",
       "      <th>3</th>\n",
       "      <td>Classes com apenas uma sequência</td>\n",
       "      <td>2454</td>\n",
       "    </tr>\n",
       "  </tbody>\n",
       "</table>\n",
       "</div>"
      ],
      "text/plain": [
       "                        Estatística                     Valor\n",
       "0    Média de sequências por classe                       3.2\n",
       "1        Classe com mais sequências  c.2.1.0 (196 sequências)\n",
       "2       Classe com menos sequências                         1\n",
       "3  Classes com apenas uma sequência                      2454"
      ]
     },
     "execution_count": 9,
     "metadata": {},
     "output_type": "execute_result"
    }
   ],
   "source": [
    "distribuicao_classes = data_proteinas['classe_scop'].value_counts()\n",
    "\n",
    "estatisicas_classes = pd.DataFrame({\n",
    "    'Estatística': [\n",
    "        'Média de sequências por classe',\n",
    "        'Classe com mais sequências',\n",
    "        'Classe com menos sequências',\n",
    "        'Classes com apenas uma sequência'\n",
    "    ],\n",
    "    'Valor': [\n",
    "        f'{data_proteinas['classe_scop'].value_counts().mean():.1f}',\n",
    "        f\"{distribuicao_classes.index[0]} ({distribuicao_classes.iloc[0]} sequências)\",\n",
    "        f'{data_proteinas['classe_scop'].value_counts().min()}',\n",
    "        f'{(data_proteinas['classe_scop'].value_counts() == 1).sum()}'\n",
    "    ]\n",
    "})\n",
    "\n",
    "estatisicas_classes"
   ]
  },
  {
   "cell_type": "markdown",
   "id": "78206dec",
   "metadata": {},
   "source": [
    "## 3. Implementação do K-mer 2x2"
   ]
  },
  {
   "cell_type": "code",
   "execution_count": 10,
   "id": "1457b1ce",
   "metadata": {},
   "outputs": [
    {
     "data": {
      "text/plain": [
       "20"
      ]
     },
     "execution_count": 10,
     "metadata": {},
     "output_type": "execute_result"
    }
   ],
   "source": [
    "aminoacidos = 'ACDEFGHIKLMNPQRSTVWY'\n",
    "len(aminoacidos)"
   ]
  },
  {
   "cell_type": "markdown",
   "id": "5cb8d5ff",
   "metadata": {},
   "source": [
    "### Gerando pares possíveis de K-mers"
   ]
  },
  {
   "cell_type": "code",
   "execution_count": 11,
   "id": "bbe87eb7",
   "metadata": {},
   "outputs": [
    {
     "name": "stdout",
     "output_type": "stream",
     "text": [
      "Total de k-mers 2x2 possíveis: 160000\n",
      "Ex: ['AA_AA', 'AA_AC', 'AA_AD', 'AA_AE', 'AA_AF']\n"
     ]
    }
   ],
   "source": [
    "primeiros = [f'{a}{b}' for a in aminoacidos for b in aminoacidos]\n",
    "segundos = [f'{c}{d}' for c in aminoacidos for d in aminoacidos]\n",
    "\n",
    "lista_kmers_2x2 = [f'{p1}_{p2}' for p1 in primeiros for p2 in segundos]\n",
    "\n",
    "print(f'Total de k-mers 2x2 possíveis: {len(lista_kmers_2x2)}')\n",
    "print(f'Ex: {lista_kmers_2x2[:5]}')"
   ]
  },
  {
   "cell_type": "markdown",
   "id": "20e5ff22",
   "metadata": {},
   "source": [
    "### Método para extrair K-mers das sequências"
   ]
  },
  {
   "cell_type": "code",
   "execution_count": 12,
   "id": "07e3b64c",
   "metadata": {},
   "outputs": [],
   "source": [
    "def extracao_kmers(sequencia):\n",
    "    kmers_achados = set()\n",
    "    comprimento = len(sequencia)\n",
    "    \n",
    "    for i in range(comprimento - 4): # pq são 5\n",
    "        kmer = f'{sequencia[i]}{sequencia[i+1]}_{sequencia[i+3]}{sequencia[i+4]}'\n",
    "        kmers_achados.add(kmer.upper())\n",
    "            \n",
    "    return kmers_achados"
   ]
  },
  {
   "cell_type": "markdown",
   "id": "36d686e3",
   "metadata": {},
   "source": [
    "### Criando a Matriz Binária\n",
    "Dicionário de índice para os k-mers:"
   ]
  },
  {
   "cell_type": "code",
   "execution_count": 13,
   "id": "724ae5eb",
   "metadata": {},
   "outputs": [],
   "source": [
    "kmer_to_indice = {kmer: idx for idx, kmer in enumerate(lista_kmers_2x2)}"
   ]
  },
  {
   "cell_type": "markdown",
   "id": "808845a9",
   "metadata": {},
   "source": [
    "Método para criar vetor binários de K-mers para uma sequência:"
   ]
  },
  {
   "cell_type": "code",
   "execution_count": 14,
   "id": "ba23e14f",
   "metadata": {},
   "outputs": [],
   "source": [
    "def vet_kmers(sequencia, k_to_i):\n",
    "    vetor = np.zeros(len(k_to_i), dtype=int)\n",
    "    kmers_achados = extracao_kmers(sequencia)\n",
    "    \n",
    "    for kmer in kmers_achados:\n",
    "        if kmer in k_to_i:\n",
    "            vetor[k_to_i[kmer]] = 1\n",
    "            \n",
    "    return vetor"
   ]
  },
  {
   "cell_type": "markdown",
   "id": "32e0a746",
   "metadata": {},
   "source": [
    "Gerando as matrizes"
   ]
  },
  {
   "cell_type": "code",
   "execution_count": 15,
   "id": "bdbb5a13",
   "metadata": {},
   "outputs": [
    {
     "name": "stderr",
     "output_type": "stream",
     "text": [
      "Gerando matrizes...: 100%|██████████| 3000/3000 [00:01<00:00, 1988.80it/s]\n"
     ]
    },
    {
     "name": "stdout",
     "output_type": "stream",
     "text": [
      "Matriz n°1 criada: (3000, 160000)\n"
     ]
    }
   ],
   "source": [
    "lote = data_proteinas['sequencia'].head(3000).tolist()\n",
    "\n",
    "matriz_k = []\n",
    "for seq in tqdm(lote, desc='Gerando matrizes...'):\n",
    "    vetor = vet_kmers(seq, kmer_to_indice)\n",
    "    matriz_k.append(vetor)\n",
    "    \n",
    "matriz_kmers = np.array(matriz_k)\n",
    "print(f'Matriz n°1 criada: {matriz_kmers.shape}')"
   ]
  },
  {
   "cell_type": "code",
   "execution_count": 16,
   "id": "b66fe2a0",
   "metadata": {},
   "outputs": [
    {
     "name": "stdout",
     "output_type": "stream",
     "text": [
      "Densidade da matriz: 0.0900%\n"
     ]
    }
   ],
   "source": [
    "print(f\"Densidade da matriz: {(matriz_kmers.sum() / (matriz_kmers.shape[0] * matriz_kmers.shape[1]) * 100):.4f}%\")"
   ]
  },
  {
   "cell_type": "markdown",
   "id": "d3c031b3",
   "metadata": {},
   "source": [
    "## 4. PCA"
   ]
  },
  {
   "cell_type": "code",
   "execution_count": 17,
   "id": "62a1a076",
   "metadata": {},
   "outputs": [
    {
     "name": "stdout",
     "output_type": "stream",
     "text": [
      "Matriz pós PCA: (3000, 300)\n",
      "Variância explicada total: 0.2884\n"
     ]
    }
   ],
   "source": [
    "pca = PCA(n_components=300)\n",
    "matriz_pca = pca.fit_transform(matriz_kmers)\n",
    "\n",
    "print(f'Matriz pós PCA: {matriz_pca.shape}')\n",
    "print(f'Variância explicada total: {pca.explained_variance_ratio_.sum():.4f}')"
   ]
  },
  {
   "cell_type": "markdown",
   "id": "5e65cf95",
   "metadata": {},
   "source": [
    "## 5. Clustering"
   ]
  },
  {
   "cell_type": "code",
   "execution_count": 26,
   "id": "ed4ef879",
   "metadata": {},
   "outputs": [],
   "source": [
    "x = matriz_pca\n",
    "classes_verdadeiras = data_proteinas['classe_scop'].head(3000).values\n",
    "\n",
    "resultados = {}"
   ]
  },
  {
   "cell_type": "markdown",
   "id": "ee0f2764",
   "metadata": {},
   "source": [
    "1. KMeans:"
   ]
  },
  {
   "cell_type": "code",
   "execution_count": 42,
   "id": "56b1d61a",
   "metadata": {},
   "outputs": [
    {
     "name": "stdout",
     "output_type": "stream",
     "text": [
      "Clusters: 15\n",
      "Silhouette: 0.7578\n",
      "Calinski-Harabasz: 16.26\n",
      "ARI: 0.0001\n",
      "AMI: 0.0010\n"
     ]
    }
   ],
   "source": [
    "kmeans = KMeans(n_clusters=15, random_state=42)\n",
    "labels_kmeans = kmeans.fit_predict(x)\n",
    "\n",
    "le = LabelEncoder()\n",
    "classes_numericas = le.fit_transform(classes_verdadeiras)\n",
    "\n",
    "n_clusters_kmeans = len(set(labels_kmeans))\n",
    "sil_kmeans = silhouette_score(x, labels_kmeans)\n",
    "ch_kmeans = calinski_harabasz_score(x, labels_kmeans)\n",
    "ari_kmeans = adjusted_rand_score(classes_numericas, labels_kmeans)\n",
    "ami_kmeans = adjusted_mutual_info_score(classes_numericas, labels_kmeans)\n",
    "\n",
    "print(f\"Clusters: {n_clusters_kmeans}\")\n",
    "print(f\"Silhouette: {sil_kmeans:.4f}\")\n",
    "print(f\"Calinski-Harabasz: {ch_kmeans:.2f}\")\n",
    "print(f\"ARI: {ari_kmeans:.4f}\")\n",
    "print(f\"AMI: {ami_kmeans:.4f}\")\n",
    "\n",
    "resultado_kmeans = {\n",
    "    'Algoritmo': 'KMeans',\n",
    "    'N_Clusters': n_clusters_kmeans,\n",
    "    'Silhouette': sil_kmeans,\n",
    "    'Calinski_Harabasz': ch_kmeans,\n",
    "    'ARI': ari_kmeans,\n",
    "    'AMI': ami_kmeans\n",
    "}"
   ]
  },
  {
   "cell_type": "markdown",
   "id": "9fe75a35",
   "metadata": {},
   "source": [
    "2. DBSCAN:"
   ]
  },
  {
   "cell_type": "code",
   "execution_count": 48,
   "id": "abb9df8b",
   "metadata": {},
   "outputs": [
    {
     "name": "stdout",
     "output_type": "stream",
     "text": [
      "Clusters: 1 | Ruído: 1628\n",
      "Silhouette: -1.0000\n",
      "Calinski-Harabasz: -1.00\n",
      "ARI: 0.0074\n",
      "AMI: 0.0863\n"
     ]
    }
   ],
   "source": [
    "dbscan = DBSCAN(eps=1.0, min_samples=5)\n",
    "labels_dbscan = dbscan.fit_predict(x)\n",
    "\n",
    "le = LabelEncoder()\n",
    "classes_numericas = le.fit_transform(classes_verdadeiras)\n",
    "\n",
    "n_clusters_dbscan = len(set(labels_dbscan)) - (1 if -1 in labels_dbscan else 0)\n",
    "n_ruido = list(labels_dbscan).count(-1)\n",
    "\n",
    "if n_clusters_dbscan > 1:\n",
    "    sil_dbscan = silhouette_score(x, labels_dbscan)\n",
    "    ch_dbscan = calinski_harabasz_score(x, labels_dbscan)\n",
    "else:\n",
    "    sil_dbscan = -1\n",
    "    ch_dbscan = -1\n",
    "\n",
    "ari_dbscan = adjusted_rand_score(classes_numericas, labels_dbscan)\n",
    "ami_dbscan = adjusted_mutual_info_score(classes_numericas, labels_dbscan)\n",
    "\n",
    "print(f\"Clusters: {n_clusters_dbscan} | Ruído: {n_ruido}\")\n",
    "print(f\"Silhouette: {sil_dbscan:.4f}\")\n",
    "print(f\"Calinski-Harabasz: {ch_dbscan:.2f}\")\n",
    "print(f\"ARI: {ari_dbscan:.4f}\")\n",
    "print(f\"AMI: {ami_dbscan:.4f}\")\n",
    "\n",
    "resultado_dbscan = {\n",
    "    'Algoritmo': 'DBSCAN',\n",
    "    'N_Clusters': n_clusters_dbscan,\n",
    "    'Silhouette': sil_dbscan,\n",
    "    'Calinski_Harabasz': ch_dbscan,\n",
    "    'ARI': ari_dbscan,\n",
    "    'AMI': ami_dbscan\n",
    "}"
   ]
  },
  {
   "cell_type": "markdown",
   "id": "377299d8",
   "metadata": {},
   "source": [
    "3. Agglomerative Clustering:"
   ]
  },
  {
   "cell_type": "code",
   "execution_count": 49,
   "id": "0962655b",
   "metadata": {},
   "outputs": [
    {
     "name": "stdout",
     "output_type": "stream",
     "text": [
      "Clusters: 15\n",
      "Silhouette: 0.7716\n",
      "Calinski-Harabasz: 22.74\n",
      "ARI: 0.0014\n",
      "AMI: 0.0317\n"
     ]
    }
   ],
   "source": [
    "agglo = AgglomerativeClustering(n_clusters=15)\n",
    "labels_agglo = agglo.fit_predict(x)\n",
    "\n",
    "le = LabelEncoder()\n",
    "classes_numericas = le.fit_transform(classes_verdadeiras)\n",
    "\n",
    "n_clusters_agglo = len(set(labels_agglo))\n",
    "sil_agglo = silhouette_score(x, labels_agglo)\n",
    "ch_agglo = calinski_harabasz_score(x, labels_agglo)\n",
    "ari_agglo = adjusted_rand_score(classes_numericas, labels_agglo)\n",
    "ami_agglo = adjusted_mutual_info_score(classes_numericas, labels_agglo)\n",
    "\n",
    "print(f\"Clusters: {n_clusters_agglo}\")\n",
    "print(f\"Silhouette: {sil_agglo:.4f}\")\n",
    "print(f\"Calinski-Harabasz: {ch_agglo:.2f}\")\n",
    "print(f\"ARI: {ari_agglo:.4f}\")\n",
    "print(f\"AMI: {ami_agglo:.4f}\")\n",
    "\n",
    "resultado_agglo = {\n",
    "    'Algoritmo': 'Agglomerative',\n",
    "    'N_Clusters': n_clusters_agglo,\n",
    "    'Silhouette': sil_agglo,\n",
    "    'Calinski_Harabasz': ch_agglo,\n",
    "    'ARI': ari_agglo,\n",
    "    'AMI': ami_agglo\n",
    "}"
   ]
  },
  {
   "cell_type": "markdown",
   "id": "400eed41",
   "metadata": {},
   "source": [
    "4. MeanShift:"
   ]
  },
  {
   "cell_type": "code",
   "execution_count": 50,
   "id": "7fe45ee5",
   "metadata": {},
   "outputs": [
    {
     "name": "stdout",
     "output_type": "stream",
     "text": [
      "Clusters: 485\n",
      "Silhouette: 0.4734\n",
      "Calinski-Harabasz: 161.87\n",
      "ARI: 0.0031\n",
      "AMI: 0.0398\n"
     ]
    }
   ],
   "source": [
    "meanshift = MeanShift()\n",
    "labels_meanshift = meanshift.fit_predict(x)\n",
    "\n",
    "le = LabelEncoder()\n",
    "classes_numericas = le.fit_transform(classes_verdadeiras)\n",
    "\n",
    "n_clusters_meanshift = len(set(labels_meanshift))\n",
    "if n_clusters_meanshift > 1:\n",
    "    sil_meanshift = silhouette_score(x, labels_meanshift)\n",
    "    ch_meanshift = calinski_harabasz_score(x, labels_meanshift)\n",
    "else:\n",
    "    sil_meanshift = -1\n",
    "    ch_meanshift = -1\n",
    "\n",
    "ari_meanshift = adjusted_rand_score(classes_numericas, labels_meanshift)\n",
    "ami_meanshift = adjusted_mutual_info_score(classes_numericas, labels_meanshift)\n",
    "\n",
    "print(f\"Clusters: {n_clusters_meanshift}\")\n",
    "print(f\"Silhouette: {sil_meanshift:.4f}\")\n",
    "print(f\"Calinski-Harabasz: {ch_meanshift:.2f}\")\n",
    "print(f\"ARI: {ari_meanshift:.4f}\")\n",
    "print(f\"AMI: {ami_meanshift:.4f}\")\n",
    "\n",
    "resultado_meanshift = {\n",
    "    'Algoritmo': 'MeanShift',\n",
    "    'N_Clusters': n_clusters_meanshift,\n",
    "    'Silhouette': sil_meanshift,\n",
    "    'Calinski_Harabasz': ch_meanshift,\n",
    "    'ARI': ari_meanshift,\n",
    "    'AMI': ami_meanshift\n",
    "}"
   ]
  },
  {
   "cell_type": "markdown",
   "id": "eb6fec0e",
   "metadata": {},
   "source": [
    "5. AffinityPropagation:"
   ]
  },
  {
   "cell_type": "code",
   "execution_count": 51,
   "id": "338a7c24",
   "metadata": {},
   "outputs": [
    {
     "name": "stdout",
     "output_type": "stream",
     "text": [
      "Clusters: 758\n",
      "Silhouette: -0.0275\n",
      "Calinski-Harabasz: 165.92\n",
      "ARI: 0.0116\n",
      "AMI: 0.0601\n"
     ]
    }
   ],
   "source": [
    "affinity = AffinityPropagation(random_state=42, damping=0.9)\n",
    "labels_affinity = affinity.fit_predict(x)\n",
    "\n",
    "le = LabelEncoder()\n",
    "classes_numericas = le.fit_transform(classes_verdadeiras)\n",
    "\n",
    "n_clusters_affinity = len(set(labels_affinity))\n",
    "if n_clusters_affinity > 1:\n",
    "    sil_affinity = silhouette_score(x, labels_affinity)\n",
    "    ch_affinity = calinski_harabasz_score(x, labels_affinity)\n",
    "else:\n",
    "    sil_affinity = -1\n",
    "    ch_affinity = -1\n",
    "\n",
    "ari_affinity = adjusted_rand_score(classes_numericas, labels_affinity)\n",
    "ami_affinity = adjusted_mutual_info_score(classes_numericas, labels_affinity)\n",
    "\n",
    "print(f\"Clusters: {n_clusters_affinity}\")\n",
    "print(f\"Silhouette: {sil_affinity:.4f}\")\n",
    "print(f\"Calinski-Harabasz: {ch_affinity:.2f}\")\n",
    "print(f\"ARI: {ari_affinity:.4f}\")\n",
    "print(f\"AMI: {ami_affinity:.4f}\")\n",
    "\n",
    "resultado_affinity = {\n",
    "    'Algoritmo': 'AffinityPropagation',\n",
    "    'N_Clusters': n_clusters_affinity,\n",
    "    'Silhouette': sil_affinity,\n",
    "    'Calinski_Harabasz': ch_affinity,\n",
    "    'ARI': ari_affinity,\n",
    "    'AMI': ami_affinity\n",
    "}"
   ]
  },
  {
   "cell_type": "markdown",
   "id": "0717879d",
   "metadata": {},
   "source": [
    "### Comparativo:"
   ]
  },
  {
   "cell_type": "markdown",
   "id": "a32dfe12",
   "metadata": {},
   "source": [
    "Resultados:"
   ]
  },
  {
   "cell_type": "code",
   "execution_count": 52,
   "id": "88e26d2e",
   "metadata": {},
   "outputs": [
    {
     "data": {
      "text/html": [
       "<div>\n",
       "<style scoped>\n",
       "    .dataframe tbody tr th:only-of-type {\n",
       "        vertical-align: middle;\n",
       "    }\n",
       "\n",
       "    .dataframe tbody tr th {\n",
       "        vertical-align: top;\n",
       "    }\n",
       "\n",
       "    .dataframe thead th {\n",
       "        text-align: right;\n",
       "    }\n",
       "</style>\n",
       "<table border=\"1\" class=\"dataframe\">\n",
       "  <thead>\n",
       "    <tr style=\"text-align: right;\">\n",
       "      <th></th>\n",
       "      <th>Algoritmo</th>\n",
       "      <th>N_Clusters</th>\n",
       "      <th>Silhouette</th>\n",
       "      <th>Calinski_Harabasz</th>\n",
       "      <th>ARI</th>\n",
       "      <th>AMI</th>\n",
       "    </tr>\n",
       "  </thead>\n",
       "  <tbody>\n",
       "    <tr>\n",
       "      <th>4</th>\n",
       "      <td>AffinityPropagation</td>\n",
       "      <td>758</td>\n",
       "      <td>-0.027454</td>\n",
       "      <td>165.916547</td>\n",
       "      <td>0.011584</td>\n",
       "      <td>0.060141</td>\n",
       "    </tr>\n",
       "    <tr>\n",
       "      <th>1</th>\n",
       "      <td>DBSCAN</td>\n",
       "      <td>1</td>\n",
       "      <td>-1.000000</td>\n",
       "      <td>-1.000000</td>\n",
       "      <td>0.007352</td>\n",
       "      <td>0.086333</td>\n",
       "    </tr>\n",
       "    <tr>\n",
       "      <th>3</th>\n",
       "      <td>MeanShift</td>\n",
       "      <td>485</td>\n",
       "      <td>0.473412</td>\n",
       "      <td>161.872499</td>\n",
       "      <td>0.003123</td>\n",
       "      <td>0.039841</td>\n",
       "    </tr>\n",
       "    <tr>\n",
       "      <th>2</th>\n",
       "      <td>Agglomerative</td>\n",
       "      <td>15</td>\n",
       "      <td>0.771614</td>\n",
       "      <td>22.739295</td>\n",
       "      <td>0.001435</td>\n",
       "      <td>0.031704</td>\n",
       "    </tr>\n",
       "    <tr>\n",
       "      <th>0</th>\n",
       "      <td>KMeans</td>\n",
       "      <td>15</td>\n",
       "      <td>0.757765</td>\n",
       "      <td>16.257534</td>\n",
       "      <td>0.000096</td>\n",
       "      <td>0.001024</td>\n",
       "    </tr>\n",
       "  </tbody>\n",
       "</table>\n",
       "</div>"
      ],
      "text/plain": [
       "             Algoritmo  N_Clusters  Silhouette  Calinski_Harabasz       ARI  \\\n",
       "4  AffinityPropagation         758   -0.027454         165.916547  0.011584   \n",
       "1               DBSCAN           1   -1.000000          -1.000000  0.007352   \n",
       "3            MeanShift         485    0.473412         161.872499  0.003123   \n",
       "2        Agglomerative          15    0.771614          22.739295  0.001435   \n",
       "0               KMeans          15    0.757765          16.257534  0.000096   \n",
       "\n",
       "        AMI  \n",
       "4  0.060141  \n",
       "1  0.086333  \n",
       "3  0.039841  \n",
       "2  0.031704  \n",
       "0  0.001024  "
      ]
     },
     "execution_count": 52,
     "metadata": {},
     "output_type": "execute_result"
    }
   ],
   "source": [
    "df_resultados = pd.DataFrame([\n",
    "    resultado_kmeans,\n",
    "    resultado_dbscan, \n",
    "    resultado_agglo,\n",
    "    resultado_meanshift,\n",
    "    resultado_affinity\n",
    "])\n",
    "\n",
    "df_resultados = df_resultados.sort_values('ARI', ascending=False)\n",
    "\n",
    "df_resultados"
   ]
  },
  {
   "cell_type": "markdown",
   "id": "35667ce5",
   "metadata": {},
   "source": [
    "Melhor ARI:"
   ]
  },
  {
   "cell_type": "code",
   "execution_count": 54,
   "id": "2114122a",
   "metadata": {},
   "outputs": [
    {
     "data": {
      "text/plain": [
       "Algoritmo            AffinityPropagation\n",
       "N_Clusters                           758\n",
       "Silhouette                     -0.027454\n",
       "Calinski_Harabasz             165.916547\n",
       "ARI                             0.011584\n",
       "AMI                             0.060141\n",
       "Name: 4, dtype: object"
      ]
     },
     "execution_count": 54,
     "metadata": {},
     "output_type": "execute_result"
    }
   ],
   "source": [
    "melhor_ari = df_resultados.iloc[0]\n",
    "melhor_ari\n"
   ]
  },
  {
   "cell_type": "markdown",
   "id": "c763c1e7",
   "metadata": {},
   "source": [
    "Melhor Silhouttte:"
   ]
  },
  {
   "cell_type": "code",
   "execution_count": 55,
   "id": "e92cc321",
   "metadata": {},
   "outputs": [
    {
     "data": {
      "text/plain": [
       "Algoritmo            Agglomerative\n",
       "N_Clusters                      15\n",
       "Silhouette                0.771614\n",
       "Calinski_Harabasz        22.739295\n",
       "ARI                       0.001435\n",
       "AMI                       0.031704\n",
       "Name: 2, dtype: object"
      ]
     },
     "execution_count": 55,
     "metadata": {},
     "output_type": "execute_result"
    }
   ],
   "source": [
    "melhor_silhouette = df_resultados.loc[df_resultados['Silhouette'].idxmax()]\n",
    "melhor_silhouette"
   ]
  },
  {
   "cell_type": "markdown",
   "id": "368d862c",
   "metadata": {},
   "source": [
    "Melhor AMI:"
   ]
  },
  {
   "cell_type": "code",
   "execution_count": 56,
   "id": "ee15f3e5",
   "metadata": {},
   "outputs": [
    {
     "data": {
      "text/plain": [
       "Algoritmo              DBSCAN\n",
       "N_Clusters                  1\n",
       "Silhouette               -1.0\n",
       "Calinski_Harabasz        -1.0\n",
       "ARI                  0.007352\n",
       "AMI                  0.086333\n",
       "Name: 1, dtype: object"
      ]
     },
     "execution_count": 56,
     "metadata": {},
     "output_type": "execute_result"
    }
   ],
   "source": [
    "melhor_ami = df_resultados.loc[df_resultados['AMI'].idxmax()]\n",
    "melhor_ami"
   ]
  }
 ],
 "metadata": {
  "kernelspec": {
   "display_name": "venv_analise",
   "language": "python",
   "name": "python3"
  },
  "language_info": {
   "codemirror_mode": {
    "name": "ipython",
    "version": 3
   },
   "file_extension": ".py",
   "mimetype": "text/x-python",
   "name": "python",
   "nbconvert_exporter": "python",
   "pygments_lexer": "ipython3",
   "version": "3.13.7"
  }
 },
 "nbformat": 4,
 "nbformat_minor": 5
}

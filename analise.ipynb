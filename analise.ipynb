{
 "cells": [
  {
   "cell_type": "markdown",
   "id": "1159cd46",
   "metadata": {},
   "source": [
    "# Análise de Proteínas"
   ]
  },
  {
   "cell_type": "markdown",
   "id": "3e3bcfce",
   "metadata": {},
   "source": [
    "## 1. Processamento do arquivo original"
   ]
  },
  {
   "cell_type": "markdown",
   "id": "610b7b28",
   "metadata": {},
   "source": [
    "### Importação das libs"
   ]
  },
  {
   "cell_type": "code",
   "execution_count": 1,
   "id": "76546478",
   "metadata": {},
   "outputs": [],
   "source": [
    "from Bio import SeqIO\n",
    "import pandas as pd\n",
    "import re"
   ]
  },
  {
   "cell_type": "markdown",
   "id": "f36f817d",
   "metadata": {},
   "source": [
    "### Processamento do Arquivo"
   ]
  },
  {
   "cell_type": "code",
   "execution_count": 2,
   "id": "9d62c3c1",
   "metadata": {},
   "outputs": [],
   "source": [
    "arquivo = \"proteinas.fa\"\n",
    "\n",
    "headers = []\n",
    "seqs = []\n",
    "classes = []\n",
    "\n",
    "for registro in SeqIO.parse(arquivo, \"fasta\"):\n",
    "    headers.append(registro.id)\n",
    "    seqs.append(str(registro.seq))    \n",
    "    classes.append(registro.description)"
   ]
  },
  {
   "cell_type": "markdown",
   "id": "610c9bb1",
   "metadata": {},
   "source": [
    "### DataFrame"
   ]
  },
  {
   "cell_type": "code",
   "execution_count": 3,
   "id": "156d877b",
   "metadata": {},
   "outputs": [
    {
     "name": "stdout",
     "output_type": "stream",
     "text": [
      "Total de proteínas: 15177\n",
      "Comprimento medio: 184.82 aminoácidos.\n",
      "Menor comprimento: 20 aminoácidos.\n",
      "Maior comprimento: 1664 aminoácidos.\n",
      "\n",
      "Primeiras 5 entradas:\n"
     ]
    },
    {
     "data": {
      "text/html": [
       "<div>\n",
       "<style scoped>\n",
       "    .dataframe tbody tr th:only-of-type {\n",
       "        vertical-align: middle;\n",
       "    }\n",
       "\n",
       "    .dataframe tbody tr th {\n",
       "        vertical-align: top;\n",
       "    }\n",
       "\n",
       "    .dataframe thead th {\n",
       "        text-align: right;\n",
       "    }\n",
       "</style>\n",
       "<table border=\"1\" class=\"dataframe\">\n",
       "  <thead>\n",
       "    <tr style=\"text-align: right;\">\n",
       "      <th></th>\n",
       "      <th>header</th>\n",
       "      <th>sequencia</th>\n",
       "      <th>classe_scop</th>\n",
       "    </tr>\n",
       "  </thead>\n",
       "  <tbody>\n",
       "    <tr>\n",
       "      <th>0</th>\n",
       "      <td>d1dlwa_</td>\n",
       "      <td>slfeqlggqaavqavtaqfyaniqadatvatffngidmpnqtnkta...</td>\n",
       "      <td>d1dlwa_ a.1.1.1 (A:) Protozoan/bacterial hemog...</td>\n",
       "    </tr>\n",
       "    <tr>\n",
       "      <th>1</th>\n",
       "      <td>d2gkma_</td>\n",
       "      <td>gllsrlrkrepisiydkiggheaievvvedffvrvladdqlsaffs...</td>\n",
       "      <td>d2gkma_ a.1.1.1 (A:) Protozoan/bacterial hemog...</td>\n",
       "    </tr>\n",
       "    <tr>\n",
       "      <th>2</th>\n",
       "      <td>d1ngka_</td>\n",
       "      <td>ksfydavggaktfdaivsrfyaqvaedevlrrvypeddlagaeerl...</td>\n",
       "      <td>d1ngka_ a.1.1.1 (A:) Protozoan/bacterial hemog...</td>\n",
       "    </tr>\n",
       "    <tr>\n",
       "      <th>3</th>\n",
       "      <td>d2bkma_</td>\n",
       "      <td>eqwqtlyeaiggeetvaklveafyrrvaahpdlrpifpddltetah...</td>\n",
       "      <td>d2bkma_ a.1.1.1 (A:) automated matches {Geobac...</td>\n",
       "    </tr>\n",
       "    <tr>\n",
       "      <th>4</th>\n",
       "      <td>d4i0va_</td>\n",
       "      <td>aslyeklggaaavdlavekfygkvladervnrffvntdmakqkqhq...</td>\n",
       "      <td>d4i0va_ a.1.1.1 (A:) automated matches {Synech...</td>\n",
       "    </tr>\n",
       "  </tbody>\n",
       "</table>\n",
       "</div>"
      ],
      "text/plain": [
       "    header                                          sequencia  \\\n",
       "0  d1dlwa_  slfeqlggqaavqavtaqfyaniqadatvatffngidmpnqtnkta...   \n",
       "1  d2gkma_  gllsrlrkrepisiydkiggheaievvvedffvrvladdqlsaffs...   \n",
       "2  d1ngka_  ksfydavggaktfdaivsrfyaqvaedevlrrvypeddlagaeerl...   \n",
       "3  d2bkma_  eqwqtlyeaiggeetvaklveafyrrvaahpdlrpifpddltetah...   \n",
       "4  d4i0va_  aslyeklggaaavdlavekfygkvladervnrffvntdmakqkqhq...   \n",
       "\n",
       "                                         classe_scop  \n",
       "0  d1dlwa_ a.1.1.1 (A:) Protozoan/bacterial hemog...  \n",
       "1  d2gkma_ a.1.1.1 (A:) Protozoan/bacterial hemog...  \n",
       "2  d1ngka_ a.1.1.1 (A:) Protozoan/bacterial hemog...  \n",
       "3  d2bkma_ a.1.1.1 (A:) automated matches {Geobac...  \n",
       "4  d4i0va_ a.1.1.1 (A:) automated matches {Synech...  "
      ]
     },
     "execution_count": 3,
     "metadata": {},
     "output_type": "execute_result"
    }
   ],
   "source": [
    "data_proteinas = pd.DataFrame({\n",
    "    'header': headers,\n",
    "    'sequencia': seqs,\n",
    "    'classe_scop': classes\n",
    "})\n",
    "\n",
    "print(f'Total de proteínas: {len(data_proteinas)}')\n",
    "print(f'Comprimento medio: {data_proteinas['sequencia'].str.len().mean():.2f} aminoácidos.')\n",
    "print(f'Menor comprimento: {data_proteinas['sequencia'].str.len().min()} aminoácidos.')\n",
    "print(f'Maior comprimento: {data_proteinas['sequencia'].str.len().max()} aminoácidos.')\n",
    "\n",
    "print()\n",
    "print('Primeiras 5 entradas:')\n",
    "data_proteinas.head()"
   ]
  },
  {
   "cell_type": "markdown",
   "id": "3e70737e",
   "metadata": {},
   "source": [
    "## 2. Extração das classes SCOP"
   ]
  },
  {
   "cell_type": "code",
   "execution_count": 4,
   "id": "b2126b5b",
   "metadata": {},
   "outputs": [],
   "source": [
    "scop_padrao = r'([a-z]\\.[0-9]+\\.[0-9]+\\.[0-9]+)'"
   ]
  },
  {
   "cell_type": "markdown",
   "id": "56ee89a3",
   "metadata": {},
   "source": [
    "### Método para extração e aplicação"
   ]
  },
  {
   "cell_type": "code",
   "execution_count": 5,
   "id": "7d893204",
   "metadata": {},
   "outputs": [],
   "source": [
    "def extrair_classe_scop(descricao):\n",
    "    match = re.search(scop_padrao, descricao)\n",
    "    if match:\n",
    "        return match.group(1)\n",
    "    else:\n",
    "        return None\n",
    "    \n",
    "data_proteinas['classe_scop'] = data_proteinas['classe_scop'].apply(extrair_classe_scop)"
   ]
  },
  {
   "cell_type": "markdown",
   "id": "d88be6b2",
   "metadata": {},
   "source": [
    "### Visualização dos resultados:\n",
    "Resumo da Extração:"
   ]
  },
  {
   "cell_type": "code",
   "execution_count": 6,
   "id": "44155793",
   "metadata": {},
   "outputs": [
    {
     "data": {
      "text/html": [
       "<div>\n",
       "<style scoped>\n",
       "    .dataframe tbody tr th:only-of-type {\n",
       "        vertical-align: middle;\n",
       "    }\n",
       "\n",
       "    .dataframe tbody tr th {\n",
       "        vertical-align: top;\n",
       "    }\n",
       "\n",
       "    .dataframe thead th {\n",
       "        text-align: right;\n",
       "    }\n",
       "</style>\n",
       "<table border=\"1\" class=\"dataframe\">\n",
       "  <thead>\n",
       "    <tr style=\"text-align: right;\">\n",
       "      <th></th>\n",
       "      <th>Metrica</th>\n",
       "      <th>Valor</th>\n",
       "    </tr>\n",
       "  </thead>\n",
       "  <tbody>\n",
       "    <tr>\n",
       "      <th>0</th>\n",
       "      <td>Total de Sequências</td>\n",
       "      <td>15177</td>\n",
       "    </tr>\n",
       "    <tr>\n",
       "      <th>1</th>\n",
       "      <td>Com classe SCOP identificada</td>\n",
       "      <td>15177</td>\n",
       "    </tr>\n",
       "    <tr>\n",
       "      <th>2</th>\n",
       "      <td>Sem classe SCOP</td>\n",
       "      <td>0</td>\n",
       "    </tr>\n",
       "    <tr>\n",
       "      <th>3</th>\n",
       "      <td>Taxa de Sucesso</td>\n",
       "      <td>100.00%</td>\n",
       "    </tr>\n",
       "    <tr>\n",
       "      <th>4</th>\n",
       "      <td>Classes únicas identificadas</td>\n",
       "      <td>4703</td>\n",
       "    </tr>\n",
       "  </tbody>\n",
       "</table>\n",
       "</div>"
      ],
      "text/plain": [
       "                        Metrica    Valor\n",
       "0           Total de Sequências    15177\n",
       "1  Com classe SCOP identificada    15177\n",
       "2               Sem classe SCOP        0\n",
       "3               Taxa de Sucesso  100.00%\n",
       "4  Classes únicas identificadas     4703"
      ]
     },
     "execution_count": 6,
     "metadata": {},
     "output_type": "execute_result"
    }
   ],
   "source": [
    "resumo_extracao = pd.DataFrame({\n",
    "    'Metrica':[\n",
    "        'Total de Sequências',\n",
    "        'Com classe SCOP identificada',\n",
    "        'Sem classe SCOP',\n",
    "        'Taxa de Sucesso',\n",
    "        'Classes únicas identificadas'\n",
    "    ],\n",
    "    'Valor':[\n",
    "        len(data_proteinas),\n",
    "        data_proteinas['classe_scop'].notna().sum(),\n",
    "        data_proteinas['classe_scop'].isna().sum(),\n",
    "        f'{(data_proteinas['classe_scop'].notna().sum()/len(data_proteinas)*100):.2f}%',\n",
    "        data_proteinas['classe_scop'].nunique()\n",
    "    ]        \n",
    "})\n",
    "\n",
    "resumo_extracao.head()"
   ]
  },
  {
   "cell_type": "markdown",
   "id": "a193cb74",
   "metadata": {},
   "source": [
    "Distribuição das Classes:"
   ]
  },
  {
   "cell_type": "code",
   "execution_count": 7,
   "id": "2afcc346",
   "metadata": {},
   "outputs": [
    {
     "data": {
      "text/html": [
       "<div>\n",
       "<style scoped>\n",
       "    .dataframe tbody tr th:only-of-type {\n",
       "        vertical-align: middle;\n",
       "    }\n",
       "\n",
       "    .dataframe tbody tr th {\n",
       "        vertical-align: top;\n",
       "    }\n",
       "\n",
       "    .dataframe thead th {\n",
       "        text-align: right;\n",
       "    }\n",
       "</style>\n",
       "<table border=\"1\" class=\"dataframe\">\n",
       "  <thead>\n",
       "    <tr style=\"text-align: right;\">\n",
       "      <th></th>\n",
       "      <th>Classe SCOP</th>\n",
       "      <th>Quantidade</th>\n",
       "      <th>Percentual</th>\n",
       "    </tr>\n",
       "  </thead>\n",
       "  <tbody>\n",
       "    <tr>\n",
       "      <th>0</th>\n",
       "      <td>c.2.1.0</td>\n",
       "      <td>196</td>\n",
       "      <td>1.29</td>\n",
       "    </tr>\n",
       "    <tr>\n",
       "      <th>1</th>\n",
       "      <td>c.94.1.0</td>\n",
       "      <td>132</td>\n",
       "      <td>0.87</td>\n",
       "    </tr>\n",
       "    <tr>\n",
       "      <th>2</th>\n",
       "      <td>b.1.1.0</td>\n",
       "      <td>127</td>\n",
       "      <td>0.84</td>\n",
       "    </tr>\n",
       "    <tr>\n",
       "      <th>3</th>\n",
       "      <td>c.47.1.0</td>\n",
       "      <td>121</td>\n",
       "      <td>0.80</td>\n",
       "    </tr>\n",
       "    <tr>\n",
       "      <th>4</th>\n",
       "      <td>c.37.1.0</td>\n",
       "      <td>109</td>\n",
       "      <td>0.72</td>\n",
       "    </tr>\n",
       "  </tbody>\n",
       "</table>\n",
       "</div>"
      ],
      "text/plain": [
       "  Classe SCOP  Quantidade  Percentual\n",
       "0     c.2.1.0         196        1.29\n",
       "1    c.94.1.0         132        0.87\n",
       "2     b.1.1.0         127        0.84\n",
       "3    c.47.1.0         121        0.80\n",
       "4    c.37.1.0         109        0.72"
      ]
     },
     "execution_count": 7,
     "metadata": {},
     "output_type": "execute_result"
    }
   ],
   "source": [
    "distribuicao_classes = data_proteinas['classe_scop'].value_counts().head()\n",
    "df_distrubuicao = pd.DataFrame({\n",
    "    'Classe SCOP': distribuicao_classes.index,\n",
    "    'Quantidade': distribuicao_classes.values,\n",
    "    'Percentual': (distribuicao_classes.values / len(data_proteinas)*100).round(2)\n",
    "})\n",
    "\n",
    "df_distrubuicao"
   ]
  },
  {
   "cell_type": "markdown",
   "id": "9c62afcb",
   "metadata": {},
   "source": [
    "Amostra dos dados com classes extraídas:"
   ]
  },
  {
   "cell_type": "code",
   "execution_count": 8,
   "id": "7f87399b",
   "metadata": {},
   "outputs": [
    {
     "data": {
      "text/html": [
       "<div>\n",
       "<style scoped>\n",
       "    .dataframe tbody tr th:only-of-type {\n",
       "        vertical-align: middle;\n",
       "    }\n",
       "\n",
       "    .dataframe tbody tr th {\n",
       "        vertical-align: top;\n",
       "    }\n",
       "\n",
       "    .dataframe thead th {\n",
       "        text-align: right;\n",
       "    }\n",
       "</style>\n",
       "<table border=\"1\" class=\"dataframe\">\n",
       "  <thead>\n",
       "    <tr style=\"text-align: right;\">\n",
       "      <th></th>\n",
       "      <th>header</th>\n",
       "      <th>classe_scop</th>\n",
       "      <th>sequencia</th>\n",
       "      <th>comprimento</th>\n",
       "    </tr>\n",
       "  </thead>\n",
       "  <tbody>\n",
       "    <tr>\n",
       "      <th>0</th>\n",
       "      <td>d1dlwa_</td>\n",
       "      <td>a.1.1.1</td>\n",
       "      <td>slfeqlggqaavqavtaqfyaniqadatvatffngidmpnqtnkta...</td>\n",
       "      <td>116</td>\n",
       "    </tr>\n",
       "    <tr>\n",
       "      <th>1</th>\n",
       "      <td>d2gkma_</td>\n",
       "      <td>a.1.1.1</td>\n",
       "      <td>gllsrlrkrepisiydkiggheaievvvedffvrvladdqlsaffs...</td>\n",
       "      <td>127</td>\n",
       "    </tr>\n",
       "    <tr>\n",
       "      <th>2</th>\n",
       "      <td>d1ngka_</td>\n",
       "      <td>a.1.1.1</td>\n",
       "      <td>ksfydavggaktfdaivsrfyaqvaedevlrrvypeddlagaeerl...</td>\n",
       "      <td>126</td>\n",
       "    </tr>\n",
       "    <tr>\n",
       "      <th>3</th>\n",
       "      <td>d2bkma_</td>\n",
       "      <td>a.1.1.1</td>\n",
       "      <td>eqwqtlyeaiggeetvaklveafyrrvaahpdlrpifpddltetah...</td>\n",
       "      <td>128</td>\n",
       "    </tr>\n",
       "    <tr>\n",
       "      <th>4</th>\n",
       "      <td>d4i0va_</td>\n",
       "      <td>a.1.1.1</td>\n",
       "      <td>aslyeklggaaavdlavekfygkvladervnrffvntdmakqkqhq...</td>\n",
       "      <td>123</td>\n",
       "    </tr>\n",
       "    <tr>\n",
       "      <th>5</th>\n",
       "      <td>d1asha_</td>\n",
       "      <td>a.1.1.2</td>\n",
       "      <td>anktrelcmkslehakvdtsnearqdgidlykhmfenypplrkyfk...</td>\n",
       "      <td>147</td>\n",
       "    </tr>\n",
       "    <tr>\n",
       "      <th>6</th>\n",
       "      <td>d2dc3a_</td>\n",
       "      <td>a.1.1.2</td>\n",
       "      <td>eelseaerkavqamwarlyancedvgvailvrffvnfpsakqyfsq...</td>\n",
       "      <td>172</td>\n",
       "    </tr>\n",
       "    <tr>\n",
       "      <th>7</th>\n",
       "      <td>d4hswa_</td>\n",
       "      <td>a.1.1.2</td>\n",
       "      <td>gfkqdiatirgdlrtyaqdiflaflnkypderryfknyvgksdqel...</td>\n",
       "      <td>137</td>\n",
       "    </tr>\n",
       "    <tr>\n",
       "      <th>8</th>\n",
       "      <td>d1ecaa_</td>\n",
       "      <td>a.1.1.2</td>\n",
       "      <td>lsadqistvqasfdkvkgdpvgilyavfkadpsimakftqfagkdl...</td>\n",
       "      <td>136</td>\n",
       "    </tr>\n",
       "    <tr>\n",
       "      <th>9</th>\n",
       "      <td>d1x9fd_</td>\n",
       "      <td>a.1.1.2</td>\n",
       "      <td>eclvteslkvklqwasafghahervafglelwrdiiddhpeikapf...</td>\n",
       "      <td>140</td>\n",
       "    </tr>\n",
       "    <tr>\n",
       "      <th>10</th>\n",
       "      <td>d1x9fc_</td>\n",
       "      <td>a.1.1.2</td>\n",
       "      <td>hehccseedhrivqkqwdilwrdtesskikigfgrllltklakdip...</td>\n",
       "      <td>149</td>\n",
       "    </tr>\n",
       "  </tbody>\n",
       "</table>\n",
       "</div>"
      ],
      "text/plain": [
       "     header classe_scop                                          sequencia  \\\n",
       "0   d1dlwa_     a.1.1.1  slfeqlggqaavqavtaqfyaniqadatvatffngidmpnqtnkta...   \n",
       "1   d2gkma_     a.1.1.1  gllsrlrkrepisiydkiggheaievvvedffvrvladdqlsaffs...   \n",
       "2   d1ngka_     a.1.1.1  ksfydavggaktfdaivsrfyaqvaedevlrrvypeddlagaeerl...   \n",
       "3   d2bkma_     a.1.1.1  eqwqtlyeaiggeetvaklveafyrrvaahpdlrpifpddltetah...   \n",
       "4   d4i0va_     a.1.1.1  aslyeklggaaavdlavekfygkvladervnrffvntdmakqkqhq...   \n",
       "5   d1asha_     a.1.1.2  anktrelcmkslehakvdtsnearqdgidlykhmfenypplrkyfk...   \n",
       "6   d2dc3a_     a.1.1.2  eelseaerkavqamwarlyancedvgvailvrffvnfpsakqyfsq...   \n",
       "7   d4hswa_     a.1.1.2  gfkqdiatirgdlrtyaqdiflaflnkypderryfknyvgksdqel...   \n",
       "8   d1ecaa_     a.1.1.2  lsadqistvqasfdkvkgdpvgilyavfkadpsimakftqfagkdl...   \n",
       "9   d1x9fd_     a.1.1.2  eclvteslkvklqwasafghahervafglelwrdiiddhpeikapf...   \n",
       "10  d1x9fc_     a.1.1.2  hehccseedhrivqkqwdilwrdtesskikigfgrllltklakdip...   \n",
       "\n",
       "    comprimento  \n",
       "0           116  \n",
       "1           127  \n",
       "2           126  \n",
       "3           128  \n",
       "4           123  \n",
       "5           147  \n",
       "6           172  \n",
       "7           137  \n",
       "8           136  \n",
       "9           140  \n",
       "10          149  "
      ]
     },
     "execution_count": 8,
     "metadata": {},
     "output_type": "execute_result"
    }
   ],
   "source": [
    "amostra = data_proteinas[['header', 'classe_scop', 'sequencia']].head(11).copy()\n",
    "amostra['comprimento'] = amostra['sequencia'].str.len()\n",
    "\n",
    "amostra"
   ]
  },
  {
   "cell_type": "markdown",
   "id": "5cb9e66c",
   "metadata": {},
   "source": [
    "Estatísticas Extras:"
   ]
  },
  {
   "cell_type": "code",
   "execution_count": 12,
   "id": "faa8d791",
   "metadata": {},
   "outputs": [
    {
     "data": {
      "text/html": [
       "<div>\n",
       "<style scoped>\n",
       "    .dataframe tbody tr th:only-of-type {\n",
       "        vertical-align: middle;\n",
       "    }\n",
       "\n",
       "    .dataframe tbody tr th {\n",
       "        vertical-align: top;\n",
       "    }\n",
       "\n",
       "    .dataframe thead th {\n",
       "        text-align: right;\n",
       "    }\n",
       "</style>\n",
       "<table border=\"1\" class=\"dataframe\">\n",
       "  <thead>\n",
       "    <tr style=\"text-align: right;\">\n",
       "      <th></th>\n",
       "      <th>Estatística</th>\n",
       "      <th>Valor</th>\n",
       "    </tr>\n",
       "  </thead>\n",
       "  <tbody>\n",
       "    <tr>\n",
       "      <th>0</th>\n",
       "      <td>Média de sequências por classe</td>\n",
       "      <td>3.2</td>\n",
       "    </tr>\n",
       "    <tr>\n",
       "      <th>1</th>\n",
       "      <td>Classe com mais sequências</td>\n",
       "      <td>c.2.1.0 (196 sequências)</td>\n",
       "    </tr>\n",
       "    <tr>\n",
       "      <th>2</th>\n",
       "      <td>Classe com menos sequências</td>\n",
       "      <td>1</td>\n",
       "    </tr>\n",
       "    <tr>\n",
       "      <th>3</th>\n",
       "      <td>Classes com apenas uma sequência</td>\n",
       "      <td>2454</td>\n",
       "    </tr>\n",
       "  </tbody>\n",
       "</table>\n",
       "</div>"
      ],
      "text/plain": [
       "                        Estatística                     Valor\n",
       "0    Média de sequências por classe                       3.2\n",
       "1        Classe com mais sequências  c.2.1.0 (196 sequências)\n",
       "2       Classe com menos sequências                         1\n",
       "3  Classes com apenas uma sequência                      2454"
      ]
     },
     "execution_count": 12,
     "metadata": {},
     "output_type": "execute_result"
    }
   ],
   "source": [
    "distribuicao_classes = data_proteinas['classe_scop'].value_counts()\n",
    "\n",
    "estatisicas_classes = pd.DataFrame({\n",
    "    'Estatística': [\n",
    "        'Média de sequências por classe',\n",
    "        'Classe com mais sequências',\n",
    "        'Classe com menos sequências',\n",
    "        'Classes com apenas uma sequência'\n",
    "    ],\n",
    "    'Valor': [\n",
    "        f'{data_proteinas['classe_scop'].value_counts().mean():.1f}',\n",
    "        f\"{distribuicao_classes.index[0]} ({distribuicao_classes.iloc[0]} sequências)\",\n",
    "        f'{data_proteinas['classe_scop'].value_counts().min()}',\n",
    "        f'{(data_proteinas['classe_scop'].value_counts() == 1).sum()}'\n",
    "    ]\n",
    "})\n",
    "\n",
    "estatisicas_classes"
   ]
  },
  {
   "cell_type": "markdown",
   "id": "78206dec",
   "metadata": {},
   "source": [
    "# 3. Implementação do K-mer 2x2"
   ]
  }
 ],
 "metadata": {
  "kernelspec": {
   "display_name": "venv_analise",
   "language": "python",
   "name": "python3"
  },
  "language_info": {
   "codemirror_mode": {
    "name": "ipython",
    "version": 3
   },
   "file_extension": ".py",
   "mimetype": "text/x-python",
   "name": "python",
   "nbconvert_exporter": "python",
   "pygments_lexer": "ipython3",
   "version": "3.13.7"
  }
 },
 "nbformat": 4,
 "nbformat_minor": 5
}
